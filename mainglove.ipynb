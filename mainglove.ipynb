{
 "metadata": {
  "language_info": {
   "codemirror_mode": {
    "name": "ipython",
    "version": 3
   },
   "file_extension": ".py",
   "mimetype": "text/x-python",
   "name": "python",
   "nbconvert_exporter": "python",
   "pygments_lexer": "ipython3",
   "version": "3.8.3-final"
  },
  "orig_nbformat": 2,
  "kernelspec": {
   "name": "python3",
   "language": "python",
   "display_name": "Python 3"
  }
 },
 "nbformat": 4,
 "nbformat_minor": 2,
 "cells": [
  {
   "cell_type": "code",
   "execution_count": 141,
   "metadata": {
    "tags": []
   },
   "outputs": [],
   "source": [
    "import numpy as np\n",
    "import pandas as pd\n",
    "import re\n",
    "import nltk\n",
    "\n",
    "from nltk.corpus import stopwords\n",
    "from sklearn.ensemble import RandomForestClassifier\n",
    "from sklearn.feature_extraction.text import TfidfVectorizer\n",
    "from sklearn.model_selection import train_test_split\n",
    "from sklearn.model_selection import StratifiedKFold\n",
    "from sklearn.metrics import f1_score,accuracy_score,confusion_matrix\n",
    "from sklearn.linear_model import LogisticRegression\n",
    "from sklearn.model_selection import GridSearchCV\n",
    "from sklearn.multioutput import ClassifierChain\n",
    "from sklearn.neighbors import KNeighborsClassifier\n",
    "from sklearn.pipeline import FeatureUnion\n",
    "from sklearn.svm import SVC\n",
    "import spacy\n",
    "from sklearn.preprocessing import StandardScaler\n",
    "from scipy import sparse\n",
    "\n"
   ]
  },
  {
   "cell_type": "code",
   "metadata": {
    "pycharm": {
     "name": "#%%\n"
    }
   },
   "source": [
    "embeddings_index = {}\n",
    "with open('glove/glove.twitter.27B.200d.txt', 'r',encoding='utf-8') as f:\n",
    "    for line in f:\n",
    "        values = line.split()\n",
    "        word = values[0]\n",
    "        coefs = np.asarray(values[1:], dtype='float32')\n",
    "        embeddings_index[word] = coefs"
   ],
   "execution_count": null,
   "outputs": []
  },
  {
   "cell_type": "code",
   "execution_count": 24,
   "metadata": {
    "pycharm": {
     "name": "#%%\n"
    }
   },
   "outputs": [],
   "source": [
    "def clean_text(text):\n",
    "    text = text.lower()\n",
    "    text = re.sub(r'[_\"\\-;%()|+&=*%.,!?:#$@\\[\\]/]', ' ', text)\n",
    "    text = re.sub(r'\\'', ' ', text)\n",
    "\n",
    "    # Remove stopwords\n",
    "    text = text.split()\n",
    "    stops = set(stopwords.words('italian'))\n",
    "    text = [w for w in text if not w in stops]\n",
    "    #text = [w if w not in training_identity else training_identity[0] for w in text]\n",
    "    text = \" \".join(text)\n",
    "\n",
    "    # Tokenize each word\n",
    "    text = nltk.WordPunctTokenizer().tokenize(text)\n",
    "    return text"
   ]
  },
  {
   "cell_type": "code",
   "execution_count": 197,
   "metadata": {},
   "outputs": [],
   "source": [
    "training_identity = []\n",
    "with open('AMI2020_TrainingSet\\AMI2020_training_identityterms.txt') as f:\n",
    "    for word in f.read().split():\n",
    "        training_identity.append(word)\n",
    "\n",
    "raw = pd.read_csv('AMI2020_TrainingSet\\AMI2020_training_raw.tsv', sep='\\t')\n",
    "cleaned_text = list(map(clean_text, raw.text))\n",
    "raw['clean'] = [' '.join(w) for w in cleaned_text]"
   ]
  },
  {
   "cell_type": "code",
   "execution_count": 9,
   "metadata": {},
   "outputs": [],
   "source": [
    "def get_mean_embeddings(texts,embeddings):\n",
    "    means = []\n",
    "    dim = len(list(embeddings.values())[0])\n",
    "    for text in texts :\n",
    "        text = nltk.WordPunctTokenizer().tokenize(text)\n",
    "        means.append(np.mean([embeddings[w] if w in embeddings else np.zeros(dim) for w in text], axis=0))\n",
    "    return np.array(means)"
   ]
  },
  {
   "cell_type": "code",
   "execution_count": 255,
   "metadata": {},
   "outputs": [],
   "source": [
    "def run_cv(k_fold, data, label):\n",
    "    accuracy_scores = f1_scores = confusion_matrices = []\n",
    "    labels = np.array(label)\n",
    "    skf = StratifiedKFold(k_fold)\n",
    "    cv_splits = skf.split(data,labels)\n",
    "    min_inidices = ([],[])\n",
    "    min_acc = 100\n",
    "    media=0\n",
    "    for train, test in cv_splits:\n",
    "        traindata,y_train,= data[train],labels[train]\n",
    "        testdata,y_test=data[test],labels[test]\n",
    "        train_feature_matrix,test_feature_matrix=get_mean_embeddings(data[train],embeddings_index),\\\n",
    "                                                 get_mean_embeddings(data[test],embeddings_index)\n",
    "        '''\n",
    "        0.2% mai putin\n",
    "        model = LogisticRegression(penalty='l2', dual=False, tol=0.0001,\n",
    "                         C=0.6, fit_intercept=True, intercept_scaling=1.0,\n",
    "                         solver = 'lbfgs', warm_start=False,\n",
    "                         class_weight=None, random_state=None)\n",
    "        '''\n",
    "        model=SVC(kernel='rbf',C=1000,gamma=1e-3)\n",
    "        model.fit(train_feature_matrix,y_train)\n",
    "        result = model.predict(test_feature_matrix)\n",
    "        score = accuracy_score(y_test, result)\n",
    "        accuracy_scores.append(score)\n",
    "        if score < min_acc:\n",
    "            min_acc = score\n",
    "            split_inidices = (train, test)\n",
    "        f1sc = f1_score(y_test, result, average='weighted')\n",
    "        media=media+f1sc\n",
    "        print('f1score:',f1sc)\n",
    "        f1_scores.append(f1sc)\n",
    "    print (f'min cv acc:{min_acc}\\nmedia:{media}')\n",
    "    print(np.mean(f1_scores))\n"
   ]
  },
  {
   "cell_type": "code",
   "execution_count": 256,
   "outputs": [
    {
     "name": "stdout",
     "output_type": "stream",
     "text": [
      "f1score: 0.8935227253419421\n",
      "f1score: 0.8934570705536998\n",
      "f1score: 0.857272679420994\n",
      "f1score: 0.8511942446043165\n",
      "f1score: 0.8917701238390093\n",
      "f1score: 0.8691599430469862\n",
      "f1score: 0.7660814349316576\n",
      "f1score: 0.7722555603593217\n",
      "f1score: 0.8236901160464185\n",
      "f1score: 0.8277687728058382\n",
      "min cv acc:0.766\n",
      "media:8.446172670950185\n",
      "0.8448086335475093\n"
     ]
    }
   ],
   "source": [
    "run_cv(10,raw['clean'],raw['misogynous'])\n",
    "\n"
   ],
   "metadata": {
    "collapsed": false,
    "pycharm": {
     "name": "#%%\n"
    }
   }
  }
 ]
}